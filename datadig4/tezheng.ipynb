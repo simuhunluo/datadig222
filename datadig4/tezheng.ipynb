{
 "cells": [
  {
   "cell_type": "code",
   "execution_count": 1,
   "metadata": {
    "collapsed": true
   },
   "outputs": [],
   "source": [
    "# -*-encoding=utf-8-*-\n",
    "import matplotlib.pyplot as plt\n",
    "import pandas as pd\n",
    "import numpy as np\n"
   ]
  },
  {
   "cell_type": "code",
   "execution_count": 5,
   "metadata": {},
   "outputs": [],
   "source": [
    "itemdata=pd.read_csv(\"C:\\Users\\scc\\PycharmProjects\\untitled1\\datadig2\\\\tianchi_fresh_comp_train_item.csv\")\n",
    "userdata=pd.read_csv(\"C:\\Users\\scc\\PycharmProjects\\untitled1\\datadig2\\\\new_train_user.csv\")"
   ]
  },
  {
   "cell_type": "code",
   "execution_count": 6,
   "metadata": {},
   "outputs": [
    {
     "name": "stdout",
     "output_type": "stream",
     "text": [
      "(422858, 3)\n"
     ]
    }
   ],
   "source": [
    "#取出唯一的商品ID和类别\n",
    "itemdata_id_category=itemdata.drop_duplicates(['item_id','item_category'])\n",
    "print itemdata_id_category.shape"
   ]
  },
  {
   "cell_type": "code",
   "execution_count": 7,
   "metadata": {},
   "outputs": [
    {
     "name": "stdout",
     "output_type": "stream",
     "text": [
      "(2084859, 7)\n"
     ]
    }
   ],
   "source": [
    "#取出有交互的商品数目\n",
    "sub=pd.merge(itemdata_id_category,userdata,how='inner',on=['item_id','item_category'])\n",
    "print sub.shape\n"
   ]
  },
  {
   "cell_type": "code",
   "execution_count": 19,
   "metadata": {},
   "outputs": [
    {
     "name": "stdout",
     "output_type": "stream",
     "text": [
      "['item_id', 'item_geohash', 'item_category', 'user_id', 'behavior_type', 'date', 'hour']\n     user_id    item_id  item_category  behavior_type        date  hour\n0   20723532  100002303           3368              1  2014-11-22    18\n1   20723532  100002303           3368              1  2014-11-22    18\n2   20723532  100002303           3368              1  2014-11-22    18\n3   44416664  100002303           3368              1  2014-12-16    15\n4   44416664  100002303           3368              1  2014-12-16    15\n5  142281897  100002303           3368              1  2014-12-02    23\n6  109084811  100003592           7995              1  2014-11-24    18\n7  134325108  100006838          12630              1  2014-11-19    21\n8    5015420  100008089           7791              1  2014-12-09    20\n9  135142209  100012750           9614              1  2014-11-22    23\n"
     ]
    }
   ],
   "source": [
    "# print sub.head(10)\n",
    "cols = list(sub)\n",
    "print cols\n",
    "cols=['user_id', 'item_id', 'item_geohash', 'item_category', 'behavior_type', 'date', 'hour']\n",
    "df = sub.ix[:, cols]\n",
    "del df['item_geohash']\n",
    "print df.head(10)"
   ]
  },
  {
   "cell_type": "code",
   "execution_count": 21,
   "metadata": {},
   "outputs": [
    {
     "name": "stdout",
     "output_type": "stream",
     "text": [
      "(67775, 5)\n       user_id    item_id  item_category  behavior_type        date\n3     44416664  100002303           3368              1  2014-12-16\n4     44416664  100002303           3368              1  2014-12-16\n21   135666003   10003007           5827              1  2014-12-16\n144   20995080  100079162           4778              1  2014-12-16\n145   20995080  100079162           4778              1  2014-12-16\n146   20995080  100079162           4778              1  2014-12-16\n164   47184224  100079162           4778              1  2014-12-16\n166   47184224  100079162           4778              1  2014-12-16\n167   47184224  100079162           4778              1  2014-12-16\n171  125528876  100079162           4778              1  2014-12-16\n"
     ]
    }
   ],
   "source": [
    "#选取16号作为特征数据\n",
    "feature_date = '2014-12-16'\n",
    "df3 = df[(df.date == feature_date) & (df.behavior_type != 3)]\n",
    "del df3['hour']\n",
    "print df3.shape\n",
    "print df3.head(10)\n"
   ]
  },
  {
   "cell_type": "code",
   "execution_count": 34,
   "metadata": {
    "collapsed": true
   },
   "outputs": [
    {
     "name": "stdout",
     "output_type": "stream",
     "text": [
      "       user_id    item_id  item_category  behavior_type        date browse  \\\n3     44416664  100002303           3368              1  2014-12-16      0   \n4     44416664  100002303           3368              1  2014-12-16      0   \n21   135666003   10003007           5827              1  2014-12-16      0   \n144   20995080  100079162           4778              1  2014-12-16      0   \n145   20995080  100079162           4778              1  2014-12-16      0   \n\n    collection add  \n3            0   0  \n4            0   0  \n21           0   0  \n144          0   0  \n145          0   0  \n"
     ]
    }
   ],
   "source": [
    "chaifen = df3\n",
    "chaifen.loc[:,'browse'] = '0'\n",
    "chaifen.loc[:,'collection'] = '0'\n",
    "chaifen.loc[:,'add'] = '0'\n",
    "print chaifen.head(5)\n"
   ]
  },
  {
   "cell_type": "code",
   "execution_count": null,
   "metadata": {},
   "outputs": [
    {
     "name": "stderr",
     "output_type": "stream",
     "text": [
      "D:\\Anaconda2\\lib\\site-packages\\ipykernel\\__main__.py:5: SettingWithCopyWarning: \nA value is trying to be set on a copy of a slice from a DataFrame\n\nSee the caveats in the documentation: http://pandas.pydata.org/pandas-docs/stable/indexing.html#indexing-view-versus-copy\n"
     ]
    },
    {
     "name": "stderr",
     "output_type": "stream",
     "text": [
      "D:\\Anaconda2\\lib\\site-packages\\ipykernel\\__main__.py:7: SettingWithCopyWarning: \nA value is trying to be set on a copy of a slice from a DataFrame\n\nSee the caveats in the documentation: http://pandas.pydata.org/pandas-docs/stable/indexing.html#indexing-view-versus-copy\n"
     ]
    }
   ],
   "source": [
    "size = len(chaifen)\n",
    "i = 0\n",
    "while i < size:\n",
    "    if chaifen.iloc[i][3] == 1:\n",
    "        chaifen.iloc[i][5] = 1\n",
    "    if chaifen.iloc[i][3] == 2:\n",
    "        chaifen.iloc[i][6] = 1\n",
    "    if chaifen.iloc[i][3] == 3:\n",
    "        chaifen.iloc[i][7] = 1\n",
    "    i += 1\n",
    "    \n",
    "print chaifen.head(5)\n"
   ]
  },
  {
   "cell_type": "code",
   "execution_count": null,
   "metadata": {},
   "outputs": [],
   "source": []
  }
 ],
 "metadata": {
  "kernelspec": {
   "display_name": "Python 2",
   "language": "python",
   "name": "python2"
  },
  "language_info": {
   "codemirror_mode": {
    "name": "ipython",
    "version": 2
   },
   "file_extension": ".py",
   "mimetype": "text/x-python",
   "name": "python",
   "nbconvert_exporter": "python",
   "pygments_lexer": "ipython2",
   "version": "2.7.6"
  }
 },
 "nbformat": 4,
 "nbformat_minor": 0
}
